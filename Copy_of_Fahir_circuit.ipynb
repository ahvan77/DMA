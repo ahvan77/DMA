{
  "nbformat": 4,
  "nbformat_minor": 0,
  "metadata": {
    "colab": {
      "provenance": [],
      "gpuType": "T4",
      "toc_visible": true,
      "include_colab_link": true
    },
    "kernelspec": {
      "name": "python3",
      "display_name": "Python 3"
    },
    "language_info": {
      "name": "python"
    },
    "accelerator": "GPU"
  },
  "cells": [
    {
      "cell_type": "markdown",
      "metadata": {
        "id": "view-in-github",
        "colab_type": "text"
      },
      "source": [
        "<a href=\"https://colab.research.google.com/github/ahvan77/DMA/blob/main/Copy_of_Fahir_circuit.ipynb\" target=\"_parent\"><img src=\"https://colab.research.google.com/assets/colab-badge.svg\" alt=\"Open In Colab\"/></a>"
      ]
    },
    {
      "cell_type": "markdown",
      "source": [
        "This an attempt to recreate the Fahir circuit explained [here](https://docs.google.com/presentation/d/1-GqSrNQ9x2QCrOr0nt7p6WXpmcACZ6K8Q-w-3Vcv384/edit?usp=sharing).\n",
        "\n"
      ],
      "metadata": {
        "id": "LxkFhZDX7Dgi"
      }
    },
    {
      "cell_type": "markdown",
      "source": [
        "# Using CIRQ"
      ],
      "metadata": {
        "id": "igVZPHtj8jdF"
      }
    },
    {
      "cell_type": "code",
      "source": [
        "!python -m pip install -q cirq\n",
        "#!sudo apt-get install texlive-latex-base latexmk"
      ],
      "metadata": {
        "colab": {
          "base_uri": "https://localhost:8080/"
        },
        "id": "ndlW9pYGc98i",
        "outputId": "6456ef55-dcbe-4764-d4c4-79a15d483664"
      },
      "execution_count": null,
      "outputs": [
        {
          "output_type": "stream",
          "name": "stdout",
          "text": [
            "\u001b[2K     \u001b[90m━━━━━━━━━━━━━━━━━━━━━━━━━━━━━━━━━━━━━━━━\u001b[0m \u001b[32m1.8/1.8 MB\u001b[0m \u001b[31m9.1 MB/s\u001b[0m eta \u001b[36m0:00:00\u001b[0m\n",
            "\u001b[2K     \u001b[90m━━━━━━━━━━━━━━━━━━━━━━━━━━━━━━━━━━━━━━━━\u001b[0m \u001b[32m143.1/143.1 kB\u001b[0m \u001b[31m8.0 MB/s\u001b[0m eta \u001b[36m0:00:00\u001b[0m\n",
            "\u001b[2K     \u001b[90m━━━━━━━━━━━━━━━━━━━━━━━━━━━━━━━━━━━━━━━━\u001b[0m \u001b[32m598.8/598.8 kB\u001b[0m \u001b[31m9.2 MB/s\u001b[0m eta \u001b[36m0:00:00\u001b[0m\n",
            "\u001b[2K     \u001b[90m━━━━━━━━━━━━━━━━━━━━━━━━━━━━━━━━━━━━━━━━\u001b[0m \u001b[32m60.9/60.9 kB\u001b[0m \u001b[31m1.4 MB/s\u001b[0m eta \u001b[36m0:00:00\u001b[0m\n",
            "\u001b[2K     \u001b[90m━━━━━━━━━━━━━━━━━━━━━━━━━━━━━━━━━━━━━━━━\u001b[0m \u001b[32m66.2/66.2 kB\u001b[0m \u001b[31m697.4 kB/s\u001b[0m eta \u001b[36m0:00:00\u001b[0m\n",
            "\u001b[2K     \u001b[90m━━━━━━━━━━━━━━━━━━━━━━━━━━━━━━━━━━━━━━━━\u001b[0m \u001b[32m596.5/596.5 kB\u001b[0m \u001b[31m15.1 MB/s\u001b[0m eta \u001b[36m0:00:00\u001b[0m\n",
            "\u001b[2K     \u001b[90m━━━━━━━━━━━━━━━━━━━━━━━━━━━━━━━━━━━━━━━━\u001b[0m \u001b[32m223.8/223.8 kB\u001b[0m \u001b[31m7.7 MB/s\u001b[0m eta \u001b[36m0:00:00\u001b[0m\n",
            "\u001b[2K     \u001b[90m━━━━━━━━━━━━━━━━━━━━━━━━━━━━━━━━━━━━━━━━\u001b[0m \u001b[32m229.9/229.9 kB\u001b[0m \u001b[31m19.6 MB/s\u001b[0m eta \u001b[36m0:00:00\u001b[0m\n",
            "\u001b[?25h  Preparing metadata (setup.py) ... \u001b[?25l\u001b[?25hdone\n",
            "\u001b[2K     \u001b[90m━━━━━━━━━━━━━━━━━━━━━━━━━━━━━━━━━━━━━━━━\u001b[0m \u001b[32m151.7/151.7 kB\u001b[0m \u001b[31m9.0 MB/s\u001b[0m eta \u001b[36m0:00:00\u001b[0m\n",
            "\u001b[2K     \u001b[90m━━━━━━━━━━━━━━━━━━━━━━━━━━━━━━━━━━━━━━━━\u001b[0m \u001b[32m45.6/45.6 kB\u001b[0m \u001b[31m3.4 MB/s\u001b[0m eta \u001b[36m0:00:00\u001b[0m\n",
            "\u001b[?25h  Preparing metadata (setup.py) ... \u001b[?25l\u001b[?25hdone\n",
            "\u001b[2K     \u001b[90m━━━━━━━━━━━━━━━━━━━━━━━━━━━━━━━━━━━━━━━━\u001b[0m \u001b[32m1.6/1.6 MB\u001b[0m \u001b[31m24.9 MB/s\u001b[0m eta \u001b[36m0:00:00\u001b[0m\n",
            "\u001b[2K     \u001b[90m━━━━━━━━━━━━━━━━━━━━━━━━━━━━━━━━━━━━━━━━\u001b[0m \u001b[32m151.7/151.7 kB\u001b[0m \u001b[31m5.3 MB/s\u001b[0m eta \u001b[36m0:00:00\u001b[0m\n",
            "\u001b[2K     \u001b[90m━━━━━━━━━━━━━━━━━━━━━━━━━━━━━━━━━━━━━━━━\u001b[0m \u001b[32m151.7/151.7 kB\u001b[0m \u001b[31m14.1 MB/s\u001b[0m eta \u001b[36m0:00:00\u001b[0m\n",
            "\u001b[2K     \u001b[90m━━━━━━━━━━━━━━━━━━━━━━━━━━━━━━━━━━━━━━━━\u001b[0m \u001b[32m147.4/147.4 kB\u001b[0m \u001b[31m10.1 MB/s\u001b[0m eta \u001b[36m0:00:00\u001b[0m\n",
            "\u001b[2K     \u001b[90m━━━━━━━━━━━━━━━━━━━━━━━━━━━━━━━━━━━━━━━━\u001b[0m \u001b[32m147.4/147.4 kB\u001b[0m \u001b[31m12.1 MB/s\u001b[0m eta \u001b[36m0:00:00\u001b[0m\n",
            "\u001b[2K     \u001b[90m━━━━━━━━━━━━━━━━━━━━━━━━━━━━━━━━━━━━━━━━\u001b[0m \u001b[32m147.4/147.4 kB\u001b[0m \u001b[31m8.4 MB/s\u001b[0m eta \u001b[36m0:00:00\u001b[0m\n",
            "\u001b[2K     \u001b[90m━━━━━━━━━━━━━━━━━━━━━━━━━━━━━━━━━━━━━━━━\u001b[0m \u001b[32m142.7/142.7 kB\u001b[0m \u001b[31m10.4 MB/s\u001b[0m eta \u001b[36m0:00:00\u001b[0m\n",
            "\u001b[2K     \u001b[90m━━━━━━━━━━━━━━━━━━━━━━━━━━━━━━━━━━━━━━━━\u001b[0m \u001b[32m88.3/88.3 kB\u001b[0m \u001b[31m6.3 MB/s\u001b[0m eta \u001b[36m0:00:00\u001b[0m\n",
            "\u001b[2K     \u001b[90m━━━━━━━━━━━━━━━━━━━━━━━━━━━━━━━━━━━━━━━━\u001b[0m \u001b[32m85.5/85.5 kB\u001b[0m \u001b[31m4.8 MB/s\u001b[0m eta \u001b[36m0:00:00\u001b[0m\n",
            "\u001b[2K     \u001b[90m━━━━━━━━━━━━━━━━━━━━━━━━━━━━━━━━━━━━━━━━\u001b[0m \u001b[32m85.1/85.1 kB\u001b[0m \u001b[31m4.7 MB/s\u001b[0m eta \u001b[36m0:00:00\u001b[0m\n",
            "\u001b[2K     \u001b[90m━━━━━━━━━━━━━━━━━━━━━━━━━━━━━━━━━━━━━━━━\u001b[0m \u001b[32m84.7/84.7 kB\u001b[0m \u001b[31m5.3 MB/s\u001b[0m eta \u001b[36m0:00:00\u001b[0m\n",
            "\u001b[2K     \u001b[90m━━━━━━━━━━━━━━━━━━━━━━━━━━━━━━━━━━━━━━━━\u001b[0m \u001b[32m83.6/83.6 kB\u001b[0m \u001b[31m5.3 MB/s\u001b[0m eta \u001b[36m0:00:00\u001b[0m\n",
            "\u001b[2K     \u001b[90m━━━━━━━━━━━━━━━━━━━━━━━━━━━━━━━━━━━━━━━━\u001b[0m \u001b[32m83.3/83.3 kB\u001b[0m \u001b[31m5.2 MB/s\u001b[0m eta \u001b[36m0:00:00\u001b[0m\n",
            "\u001b[2K     \u001b[90m━━━━━━━━━━━━━━━━━━━━━━━━━━━━━━━━━━━━━━━━\u001b[0m \u001b[32m83.4/83.4 kB\u001b[0m \u001b[31m4.6 MB/s\u001b[0m eta \u001b[36m0:00:00\u001b[0m\n",
            "\u001b[2K     \u001b[90m━━━━━━━━━━━━━━━━━━━━━━━━━━━━━━━━━━━━━━━━\u001b[0m \u001b[32m83.2/83.2 kB\u001b[0m \u001b[31m5.0 MB/s\u001b[0m eta \u001b[36m0:00:00\u001b[0m\n",
            "\u001b[2K     \u001b[90m━━━━━━━━━━━━━━━━━━━━━━━━━━━━━━━━━━━━━━━━\u001b[0m \u001b[32m82.5/82.5 kB\u001b[0m \u001b[31m5.1 MB/s\u001b[0m eta \u001b[36m0:00:00\u001b[0m\n",
            "\u001b[2K     \u001b[90m━━━━━━━━━━━━━━━━━━━━━━━━━━━━━━━━━━━━━━━━\u001b[0m \u001b[32m81.0/81.0 kB\u001b[0m \u001b[31m5.5 MB/s\u001b[0m eta \u001b[36m0:00:00\u001b[0m\n",
            "\u001b[2K     \u001b[90m━━━━━━━━━━━━━━━━━━━━━━━━━━━━━━━━━━━━━━━━\u001b[0m \u001b[32m81.0/81.0 kB\u001b[0m \u001b[31m6.5 MB/s\u001b[0m eta \u001b[36m0:00:00\u001b[0m\n",
            "\u001b[2K     \u001b[90m━━━━━━━━━━━━━━━━━━━━━━━━━━━━━━━━━━━━━━━━\u001b[0m \u001b[32m80.8/80.8 kB\u001b[0m \u001b[31m5.2 MB/s\u001b[0m eta \u001b[36m0:00:00\u001b[0m\n",
            "\u001b[2K     \u001b[90m━━━━━━━━━━━━━━━━━━━━━━━━━━━━━━━━━━━━━━━━\u001b[0m \u001b[32m80.7/80.7 kB\u001b[0m \u001b[31m5.9 MB/s\u001b[0m eta \u001b[36m0:00:00\u001b[0m\n",
            "\u001b[2K     \u001b[90m━━━━━━━━━━━━━━━━━━━━━━━━━━━━━━━━━━━━━━━━\u001b[0m \u001b[32m81.5/81.5 kB\u001b[0m \u001b[31m4.2 MB/s\u001b[0m eta \u001b[36m0:00:00\u001b[0m\n",
            "\u001b[2K     \u001b[90m━━━━━━━━━━━━━━━━━━━━━━━━━━━━━━━━━━━━━━━━\u001b[0m \u001b[32m90.4/90.4 kB\u001b[0m \u001b[31m8.5 MB/s\u001b[0m eta \u001b[36m0:00:00\u001b[0m\n",
            "\u001b[2K     \u001b[90m━━━━━━━━━━━━━━━━━━━━━━━━━━━━━━━━━━━━━━━━\u001b[0m \u001b[32m117.7/117.7 kB\u001b[0m \u001b[31m13.1 MB/s\u001b[0m eta \u001b[36m0:00:00\u001b[0m\n",
            "\u001b[2K     \u001b[90m━━━━━━━━━━━━━━━━━━━━━━━━━━━━━━━━━━━━━━━━\u001b[0m \u001b[32m60.6/60.6 kB\u001b[0m \u001b[31m6.7 MB/s\u001b[0m eta \u001b[36m0:00:00\u001b[0m\n",
            "\u001b[2K     \u001b[90m━━━━━━━━━━━━━━━━━━━━━━━━━━━━━━━━━━━━━━━━\u001b[0m \u001b[32m71.5/71.5 kB\u001b[0m \u001b[31m7.1 MB/s\u001b[0m eta \u001b[36m0:00:00\u001b[0m\n",
            "\u001b[2K     \u001b[90m━━━━━━━━━━━━━━━━━━━━━━━━━━━━━━━━━━━━━━━━\u001b[0m \u001b[32m3.1/3.1 MB\u001b[0m \u001b[31m65.2 MB/s\u001b[0m eta \u001b[36m0:00:00\u001b[0m\n",
            "\u001b[2K     \u001b[90m━━━━━━━━━━━━━━━━━━━━━━━━━━━━━━━━━━━━━━━━\u001b[0m \u001b[32m1.7/1.7 MB\u001b[0m \u001b[31m61.0 MB/s\u001b[0m eta \u001b[36m0:00:00\u001b[0m\n",
            "\u001b[2K     \u001b[90m━━━━━━━━━━━━━━━━━━━━━━━━━━━━━━━━━━━━━━━━\u001b[0m \u001b[32m117.8/117.8 kB\u001b[0m \u001b[31m12.6 MB/s\u001b[0m eta \u001b[36m0:00:00\u001b[0m\n",
            "\u001b[2K     \u001b[90m━━━━━━━━━━━━━━━━━━━━━━━━━━━━━━━━━━━━━━━━\u001b[0m \u001b[32m69.6/69.6 kB\u001b[0m \u001b[31m8.4 MB/s\u001b[0m eta \u001b[36m0:00:00\u001b[0m\n",
            "\u001b[2K     \u001b[90m━━━━━━━━━━━━━━━━━━━━━━━━━━━━━━━━━━━━━━━━\u001b[0m \u001b[32m526.7/526.7 kB\u001b[0m \u001b[31m33.3 MB/s\u001b[0m eta \u001b[36m0:00:00\u001b[0m\n",
            "\u001b[2K     \u001b[90m━━━━━━━━━━━━━━━━━━━━━━━━━━━━━━━━━━━━━━━━\u001b[0m \u001b[32m58.3/58.3 kB\u001b[0m \u001b[31m3.7 MB/s\u001b[0m eta \u001b[36m0:00:00\u001b[0m\n",
            "\u001b[?25h  Building wheel for lark (setup.py) ... \u001b[?25l\u001b[?25hdone\n",
            "  Building wheel for rpcq (setup.py) ... \u001b[?25l\u001b[?25hdone\n",
            "\u001b[31mERROR: pip's dependency resolver does not currently take into account all the packages that are installed. This behaviour is the source of the following dependency conflicts.\n",
            "referencing 0.35.1 requires attrs>=22.2.0, but you have attrs 21.4.0 which is incompatible.\u001b[0m\u001b[31m\n",
            "\u001b[0m"
          ]
        }
      ]
    },
    {
      "cell_type": "code",
      "source": [
        "import cirq\n",
        "import sympy\n",
        "from cirq.contrib.svg import SVGCircuit"
      ],
      "metadata": {
        "id": "thpjzKd8dlrA"
      },
      "execution_count": null,
      "outputs": []
    },
    {
      "cell_type": "markdown",
      "source": [
        "https://quantumai.google/reference/python/cirq/XXPowGate"
      ],
      "metadata": {
        "id": "qAlEMNj0o0tY"
      }
    },
    {
      "cell_type": "code",
      "source": [
        "help(cirq.XX)"
      ],
      "metadata": {
        "colab": {
          "base_uri": "https://localhost:8080/"
        },
        "id": "fGgGbSCze5w8",
        "outputId": "ef676f3f-c524-4088-afc8-78519303cf00"
      },
      "execution_count": null,
      "outputs": [
        {
          "output_type": "stream",
          "name": "stdout",
          "text": [
            "Help on XXPowGate in module cirq.ops.parity_gates:\n",
            "\n",
            "cirq.XX\n",
            "    The tensor product of two X gates.\n",
            "    \n",
            "    Useful for creating `cirq.XXPowGate`s via `cirq.XX**t`.\n",
            "    \n",
            "    This is the `exponent=1` instance of `cirq.XXPowGate`.\n",
            "\n"
          ]
        }
      ]
    },
    {
      "cell_type": "code",
      "source": [
        "help(cirq.ZZ)"
      ],
      "metadata": {
        "colab": {
          "base_uri": "https://localhost:8080/"
        },
        "id": "5lJpKMzAfDzX",
        "outputId": "191c3050-7aa0-4a02-92e5-cbc71e0d7e73"
      },
      "execution_count": null,
      "outputs": [
        {
          "output_type": "stream",
          "name": "stdout",
          "text": [
            "Help on ZZPowGate in module cirq.ops.parity_gates:\n",
            "\n",
            "cirq.ZZ\n",
            "    The tensor product of two Z gates.\n",
            "    \n",
            "    Useful for creating `cirq.ZZPowGate`s via `cirq.ZZ**t`.\n",
            "    \n",
            "    This is the `exponent=1` instance of `cirq.ZZPowGate`.\n",
            "\n"
          ]
        }
      ]
    },
    {
      "cell_type": "code",
      "source": [
        "# Create a circuit to generate a Bell State:\n",
        "fahir_circuit = cirq.Circuit()\n",
        "readout, q1 = cirq.LineQubit.range(2)\n",
        "fahir_circuit.append(cirq.X(readout))\n",
        "fahir_circuit.append(cirq.H(readout))\n",
        "fahir_circuit.append(cirq.XX(q1, readout) ** sympy.Symbol('t')) # t is a trainable parameter\n",
        "fahir_circuit.append(cirq.ZZ(q1, readout))\n",
        "fahir_circuit.append(cirq.H(readout))\n",
        "fahir_circuit.append(cirq.Z(readout))\n",
        "# For sampling, we need to add a measurement at the end\n",
        "fahir_circuit.append(cirq.measure(readout, key='m'))\n",
        "SVGCircuit(fahir_circuit)\n"
      ],
      "metadata": {
        "colab": {
          "base_uri": "https://localhost:8080/",
          "height": 312
        },
        "id": "evCmYyw-iGn_",
        "outputId": "053260f2-c463-4872-8120-986c35caa079"
      },
      "execution_count": null,
      "outputs": [
        {
          "output_type": "stream",
          "name": "stderr",
          "text": [
            "WARNING:matplotlib.font_manager:findfont: Font family 'Arial' not found.\n",
            "WARNING:matplotlib.font_manager:findfont: Font family 'Arial' not found.\n",
            "WARNING:matplotlib.font_manager:findfont: Font family 'Arial' not found.\n",
            "WARNING:matplotlib.font_manager:findfont: Font family 'Arial' not found.\n",
            "WARNING:matplotlib.font_manager:findfont: Font family 'Arial' not found.\n",
            "WARNING:matplotlib.font_manager:findfont: Font family 'Arial' not found.\n",
            "WARNING:matplotlib.font_manager:findfont: Font family 'Arial' not found.\n",
            "WARNING:matplotlib.font_manager:findfont: Font family 'Arial' not found.\n",
            "WARNING:matplotlib.font_manager:findfont: Font family 'Arial' not found.\n",
            "WARNING:matplotlib.font_manager:findfont: Font family 'Arial' not found.\n",
            "WARNING:matplotlib.font_manager:findfont: Font family 'Arial' not found.\n"
          ]
        },
        {
          "output_type": "execute_result",
          "data": {
            "text/plain": [
              "<cirq.contrib.svg.svg.SVGCircuit at 0x7c725c2c09d0>"
            ],
            "image/svg+xml": "<svg xmlns=\"http://www.w3.org/2000/svg\" width=\"537.4093359374999\" height=\"100.0\"><line x1=\"30.0\" x2=\"507.4093359375\" y1=\"25.0\" y2=\"25.0\" stroke=\"#1967d2\" stroke-width=\"1\" /><line x1=\"30.0\" x2=\"507.4093359375\" y1=\"75.0\" y2=\"75.0\" stroke=\"#1967d2\" stroke-width=\"1\" /><line x1=\"212.8240234375\" x2=\"212.8240234375\" y1=\"25.0\" y2=\"75.0\" stroke=\"black\" stroke-width=\"3\" /><line x1=\"275.648046875\" x2=\"275.648046875\" y1=\"25.0\" y2=\"75.0\" stroke=\"black\" stroke-width=\"3\" /><rect x=\"10.0\" y=\"5.0\" width=\"40\" height=\"40\" stroke=\"black\" fill=\"white\" stroke-width=\"0\" /><text x=\"30.0\" y=\"25.0\" dominant-baseline=\"middle\" text-anchor=\"middle\" font-size=\"14px\" font-family=\"Arial:style=normal:variant=normal:weight=normal:stretch=normal:size=10.0\">0: </text><rect x=\"10.0\" y=\"55.0\" width=\"40\" height=\"40\" stroke=\"black\" fill=\"white\" stroke-width=\"0\" /><text x=\"30.0\" y=\"75.0\" dominant-baseline=\"middle\" text-anchor=\"middle\" font-size=\"14px\" font-family=\"Arial:style=normal:variant=normal:weight=normal:stretch=normal:size=10.0\">1: </text><rect x=\"70.0\" y=\"5.0\" width=\"40\" height=\"40\" stroke=\"black\" fill=\"white\" stroke-width=\"1\" /><text x=\"90.0\" y=\"25.0\" dominant-baseline=\"middle\" text-anchor=\"middle\" font-size=\"18px\" font-family=\"Arial:style=normal:variant=normal:weight=normal:stretch=normal:size=10.0\">X</text><rect x=\"130.0\" y=\"5.0\" width=\"40\" height=\"40\" stroke=\"black\" fill=\"white\" stroke-width=\"1\" /><text x=\"150.0\" y=\"25.0\" dominant-baseline=\"middle\" text-anchor=\"middle\" font-size=\"18px\" font-family=\"Arial:style=normal:variant=normal:weight=normal:stretch=normal:size=10.0\">H</text><rect x=\"190.0\" y=\"55.0\" width=\"45.648046875000006\" height=\"40\" stroke=\"black\" fill=\"white\" stroke-width=\"1\" /><text x=\"212.8240234375\" y=\"75.0\" dominant-baseline=\"middle\" text-anchor=\"middle\" font-size=\"14px\" font-family=\"Arial:style=normal:variant=normal:weight=normal:stretch=normal:size=10.0\">XX^t</text><rect x=\"190.0\" y=\"5.0\" width=\"45.648046875000006\" height=\"40\" stroke=\"black\" fill=\"white\" stroke-width=\"1\" /><text x=\"212.8240234375\" y=\"25.0\" dominant-baseline=\"middle\" text-anchor=\"middle\" font-size=\"14px\" font-family=\"Arial:style=normal:variant=normal:weight=normal:stretch=normal:size=10.0\">XX</text><rect x=\"255.64804687499998\" y=\"55.0\" width=\"40\" height=\"40\" stroke=\"black\" fill=\"white\" stroke-width=\"1\" /><text x=\"275.648046875\" y=\"75.0\" dominant-baseline=\"middle\" text-anchor=\"middle\" font-size=\"14px\" font-family=\"Arial:style=normal:variant=normal:weight=normal:stretch=normal:size=10.0\">ZZ</text><rect x=\"255.64804687499998\" y=\"5.0\" width=\"40\" height=\"40\" stroke=\"black\" fill=\"white\" stroke-width=\"1\" /><text x=\"275.648046875\" y=\"25.0\" dominant-baseline=\"middle\" text-anchor=\"middle\" font-size=\"14px\" font-family=\"Arial:style=normal:variant=normal:weight=normal:stretch=normal:size=10.0\">ZZ</text><rect x=\"315.648046875\" y=\"5.0\" width=\"40\" height=\"40\" stroke=\"black\" fill=\"white\" stroke-width=\"1\" /><text x=\"335.648046875\" y=\"25.0\" dominant-baseline=\"middle\" text-anchor=\"middle\" font-size=\"18px\" font-family=\"Arial:style=normal:variant=normal:weight=normal:stretch=normal:size=10.0\">H</text><rect x=\"375.648046875\" y=\"5.0\" width=\"40\" height=\"40\" stroke=\"black\" fill=\"white\" stroke-width=\"1\" /><text x=\"395.648046875\" y=\"25.0\" dominant-baseline=\"middle\" text-anchor=\"middle\" font-size=\"18px\" font-family=\"Arial:style=normal:variant=normal:weight=normal:stretch=normal:size=10.0\">Z</text><rect x=\"435.648046875\" y=\"5.0\" width=\"51.7612890625\" height=\"40\" stroke=\"black\" fill=\"white\" stroke-width=\"1\" /><text x=\"461.52869140625\" y=\"25.0\" dominant-baseline=\"middle\" text-anchor=\"middle\" font-size=\"14px\" font-family=\"Arial:style=normal:variant=normal:weight=normal:stretch=normal:size=10.0\">M('m')</text></svg>"
          },
          "metadata": {},
          "execution_count": 5
        }
      ]
    },
    {
      "cell_type": "code",
      "source": [
        "# Initialize Simulator\n",
        "import matplotlib.pyplot as plt\n",
        "s = cirq.Simulator()\n",
        "print(fahir_circuit)\n",
        "print('Simulate the circuit:')\n",
        "\n",
        "# Sweep exponent\n",
        "param_sweep = cirq.Linspace('t', start=-2, stop=2, length=200)\n",
        "trials = s.run_sweep(fahir_circuit, param_sweep, repetitions=1000)\n",
        "\n",
        "# Plot all the results\n",
        "x_data = [trial.params['t'] for trial in trials]\n",
        "y_data = [trial.histogram(key='m')[1] / 1000.0 for trial in trials]\n",
        "plt.scatter('t', 'p', data={'t': x_data, 'p': y_data})\n",
        "plt.xlabel(\"trials\")\n",
        "plt.ylabel(\"frequency of qubit measured to be one\")\n",
        "plt.show()"
      ],
      "metadata": {
        "colab": {
          "base_uri": "https://localhost:8080/",
          "height": 518
        },
        "id": "jtLvI2b0mz3u",
        "outputId": "801a27a7-3172-447d-ff33-43dd6e04ddfb"
      },
      "execution_count": null,
      "outputs": [
        {
          "output_type": "stream",
          "name": "stdout",
          "text": [
            "0: ───X───H───XX─────ZZ───H───Z───M('m')───\n",
            "              │      │\n",
            "1: ───────────XX^t───ZZ────────────────────\n",
            "Simulate the circuit:\n"
          ]
        },
        {
          "output_type": "display_data",
          "data": {
            "text/plain": [
              "<Figure size 640x480 with 1 Axes>"
            ],
            "image/png": "[encoded data removed]"
          },
          "metadata": {}
        }
      ]
    },
    {
      "cell_type": "markdown",
      "source": [
        "https://github.com/sfoucher/sirfqc/blob/main/quantum/fvqc.py#L16"
      ],
      "metadata": {
        "id": "PykFXcBG-qkV"
      }
    },
    {
      "cell_type": "code",
      "source": [
        "class CircuitLayerBuilder():\n",
        "    def __init__(self, data_qubits, readout):\n",
        "        self.data_qubits = data_qubits\n",
        "        self.readout = readout\n",
        "\n",
        "    def add_layer(self, circuit, gate, prefix):\n",
        "        for i, qubit in enumerate(self.data_qubits):\n",
        "            symbol = sympy.Symbol(prefix + '-' + str(i))\n",
        "            circuit.append(gate(qubit, self.readout)**symbol)\n",
        "\n"
      ],
      "metadata": {
        "id": "EAksjG_NdtNs"
      },
      "execution_count": null,
      "outputs": []
    },
    {
      "cell_type": "code",
      "source": [
        "observable= 'x'\n",
        "data_qubits = cirq.GridQubit.rect(4, 4) # A list of GridQubits filling in a rectangular grid\n",
        "readout = cirq.GridQubit(-1, -1) # A qubit on a 2d square lattice.\n",
        "circuit = cirq.Circuit()\n",
        "\n",
        "# Prepare the readout qubit\n",
        "circuit.append(cirq.X(readout))\n",
        "circuit.append(cirq.H(readout))\n",
        "\n",
        "builder = CircuitLayerBuilder(\n",
        "    data_qubits=data_qubits,\n",
        "    readout=readout)\n",
        "\n",
        "# Add layers\n",
        "builder.add_layer(circuit, cirq.XX, \"xx1\")\n",
        "builder.add_layer(circuit, cirq.ZZ, \"zz1\")\n",
        "\n",
        "# Prepare measurement\n",
        "if observable == 'x':\n",
        "    circuit.append(cirq.H(readout))\n",
        "\n",
        "if observable == 'y':\n",
        "    s_dg = cirq.ops.ZPowGate(exponent=-(1 / 2))\n",
        "    circuit.append(s_dg(readout))\n",
        "    circuit.append(cirq.H(readout))\n",
        "circuit.append(cirq.Z(readout))\n",
        "\n",
        "print(circuit)"
      ],
      "metadata": {
        "colab": {
          "base_uri": "https://localhost:8080/"
        },
        "id": "xyymBfObdVj_",
        "outputId": "3258d3c3-e05f-4a2b-ab78-97738e4738eb"
      },
      "execution_count": null,
      "outputs": [
        {
          "output_type": "stream",
          "name": "stdout",
          "text": [
            "(-1, -1): ───X───H───XX───────────XX───────────XX───────────XX───────────XX───────────XX───────────XX───────────XX───────────XX───────────XX───────────XX────────────XX────────────XX────────────XX────────────XX────────────XX────────────ZZ───────────ZZ───────────ZZ───────────ZZ───────────ZZ───────────ZZ───────────ZZ───────────ZZ───────────ZZ───────────ZZ───────────ZZ────────────ZZ────────────ZZ────────────ZZ────────────ZZ────────────ZZ────────────H───Z───\n",
            "                     │            │            │            │            │            │            │            │            │            │            │             │             │             │             │             │             │            │            │            │            │            │            │            │            │            │            │             │             │             │             │             │\n",
            "(0, 0): ─────────────XX^(xx1-0)───┼────────────┼────────────┼────────────┼────────────┼────────────┼────────────┼────────────┼────────────┼────────────┼─────────────┼─────────────┼─────────────┼─────────────┼─────────────┼─────────────ZZ^(zz1-0)───┼────────────┼────────────┼────────────┼────────────┼────────────┼────────────┼────────────┼────────────┼────────────┼─────────────┼─────────────┼─────────────┼─────────────┼─────────────┼─────────────────────\n",
            "                                  │            │            │            │            │            │            │            │            │            │             │             │             │             │             │                          │            │            │            │            │            │            │            │            │            │             │             │             │             │             │\n",
            "(0, 1): ──────────────────────────XX^(xx1-1)───┼────────────┼────────────┼────────────┼────────────┼────────────┼────────────┼────────────┼────────────┼─────────────┼─────────────┼─────────────┼─────────────┼─────────────┼──────────────────────────ZZ^(zz1-1)───┼────────────┼────────────┼────────────┼────────────┼────────────┼────────────┼────────────┼────────────┼─────────────┼─────────────┼─────────────┼─────────────┼─────────────┼─────────────────────\n",
            "                                               │            │            │            │            │            │            │            │            │             │             │             │             │             │                                       │            │            │            │            │            │            │            │            │             │             │             │             │             │\n",
            "(0, 2): ───────────────────────────────────────XX^(xx1-2)───┼────────────┼────────────┼────────────┼────────────┼────────────┼────────────┼────────────┼─────────────┼─────────────┼─────────────┼─────────────┼─────────────┼───────────────────────────────────────ZZ^(zz1-2)───┼────────────┼────────────┼────────────┼────────────┼────────────┼────────────┼────────────┼─────────────┼─────────────┼─────────────┼─────────────┼─────────────┼─────────────────────\n",
            "                                                            │            │            │            │            │            │            │            │             │             │             │             │             │                                                    │            │            │            │            │            │            │            │             │             │             │             │             │\n",
            "(0, 3): ────────────────────────────────────────────────────XX^(xx1-3)───┼────────────┼────────────┼────────────┼────────────┼────────────┼────────────┼─────────────┼─────────────┼─────────────┼─────────────┼─────────────┼────────────────────────────────────────────────────ZZ^(zz1-3)───┼────────────┼────────────┼────────────┼────────────┼────────────┼────────────┼─────────────┼─────────────┼─────────────┼─────────────┼─────────────┼─────────────────────\n",
            "                                                                         │            │            │            │            │            │            │             │             │             │             │             │                                                                 │            │            │            │            │            │            │             │             │             │             │             │\n",
            "(1, 0): ─────────────────────────────────────────────────────────────────XX^(xx1-4)───┼────────────┼────────────┼────────────┼────────────┼────────────┼─────────────┼─────────────┼─────────────┼─────────────┼─────────────┼─────────────────────────────────────────────────────────────────ZZ^(zz1-4)───┼────────────┼────────────┼────────────┼────────────┼────────────┼─────────────┼─────────────┼─────────────┼─────────────┼─────────────┼─────────────────────\n",
            "                                                                                      │            │            │            │            │            │             │             │             │             │             │                                                                              │            │            │            │            │            │             │             │             │             │             │\n",
            "(1, 1): ──────────────────────────────────────────────────────────────────────────────XX^(xx1-5)───┼────────────┼────────────┼────────────┼────────────┼─────────────┼─────────────┼─────────────┼─────────────┼─────────────┼──────────────────────────────────────────────────────────────────────────────ZZ^(zz1-5)───┼────────────┼────────────┼────────────┼────────────┼─────────────┼─────────────┼─────────────┼─────────────┼─────────────┼─────────────────────\n",
            "                                                                                                   │            │            │            │            │             │             │             │             │             │                                                                                           │            │            │            │            │             │             │             │             │             │\n",
            "(1, 2): ───────────────────────────────────────────────────────────────────────────────────────────XX^(xx1-6)───┼────────────┼────────────┼────────────┼─────────────┼─────────────┼─────────────┼─────────────┼─────────────┼───────────────────────────────────────────────────────────────────────────────────────────ZZ^(zz1-6)───┼────────────┼────────────┼────────────┼─────────────┼─────────────┼─────────────┼─────────────┼─────────────┼─────────────────────\n",
            "                                                                                                                │            │            │            │             │             │             │             │             │                                                                                                        │            │            │            │             │             │             │             │             │\n",
            "(1, 3): ────────────────────────────────────────────────────────────────────────────────────────────────────────XX^(xx1-7)───┼────────────┼────────────┼─────────────┼─────────────┼─────────────┼─────────────┼─────────────┼────────────────────────────────────────────────────────────────────────────────────────────────────────ZZ^(zz1-7)───┼────────────┼────────────┼─────────────┼─────────────┼─────────────┼─────────────┼─────────────┼─────────────────────\n",
            "                                                                                                                             │            │            │             │             │             │             │             │                                                                                                                     │            │            │             │             │             │             │             │\n",
            "(2, 0): ─────────────────────────────────────────────────────────────────────────────────────────────────────────────────────XX^(xx1-8)───┼────────────┼─────────────┼─────────────┼─────────────┼─────────────┼─────────────┼─────────────────────────────────────────────────────────────────────────────────────────────────────────────────────ZZ^(zz1-8)───┼────────────┼─────────────┼─────────────┼─────────────┼─────────────┼─────────────┼─────────────────────\n",
            "                                                                                                                                          │            │             │             │             │             │             │                                                                                                                                  │            │             │             │             │             │             │\n",
            "(2, 1): ──────────────────────────────────────────────────────────────────────────────────────────────────────────────────────────────────XX^(xx1-9)───┼─────────────┼─────────────┼─────────────┼─────────────┼─────────────┼──────────────────────────────────────────────────────────────────────────────────────────────────────────────────────────────────ZZ^(zz1-9)───┼─────────────┼─────────────┼─────────────┼─────────────┼─────────────┼─────────────────────\n",
            "                                                                                                                                                       │             │             │             │             │             │                                                                                                                                               │             │             │             │             │             │\n",
            "(2, 2): ───────────────────────────────────────────────────────────────────────────────────────────────────────────────────────────────────────────────XX^(xx1-10)───┼─────────────┼─────────────┼─────────────┼─────────────┼───────────────────────────────────────────────────────────────────────────────────────────────────────────────────────────────────────────────ZZ^(zz1-10)───┼─────────────┼─────────────┼─────────────┼─────────────┼─────────────────────\n",
            "                                                                                                                                                                     │             │             │             │             │                                                                                                                                                             │             │             │             │             │\n",
            "(2, 3): ─────────────────────────────────────────────────────────────────────────────────────────────────────────────────────────────────────────────────────────────XX^(xx1-11)───┼─────────────┼─────────────┼─────────────┼─────────────────────────────────────────────────────────────────────────────────────────────────────────────────────────────────────────────────────────────ZZ^(zz1-11)───┼─────────────┼─────────────┼─────────────┼─────────────────────\n",
            "                                                                                                                                                                                   │             │             │             │                                                                                                                                                                           │             │             │             │\n",
            "(3, 0): ───────────────────────────────────────────────────────────────────────────────────────────────────────────────────────────────────────────────────────────────────────────XX^(xx1-12)───┼─────────────┼─────────────┼───────────────────────────────────────────────────────────────────────────────────────────────────────────────────────────────────────────────────────────────────────────ZZ^(zz1-12)───┼─────────────┼─────────────┼─────────────────────\n",
            "                                                                                                                                                                                                 │             │             │                                                                                                                                                                                         │             │             │\n",
            "(3, 1): ─────────────────────────────────────────────────────────────────────────────────────────────────────────────────────────────────────────────────────────────────────────────────────────XX^(xx1-13)───┼─────────────┼─────────────────────────────────────────────────────────────────────────────────────────────────────────────────────────────────────────────────────────────────────────────────────────ZZ^(zz1-13)───┼─────────────┼─────────────────────\n",
            "                                                                                                                                                                                                               │             │                                                                                                                                                                                                       │             │\n",
            "(3, 2): ───────────────────────────────────────────────────────────────────────────────────────────────────────────────────────────────────────────────────────────────────────────────────────────────────────XX^(xx1-14)───┼───────────────────────────────────────────────────────────────────────────────────────────────────────────────────────────────────────────────────────────────────────────────────────────────────────ZZ^(zz1-14)───┼─────────────────────\n",
            "                                                                                                                                                                                                                             │                                                                                                                                                                                                                     │\n",
            "(3, 3): ─────────────────────────────────────────────────────────────────────────────────────────────────────────────────────────────────────────────────────────────────────────────────────────────────────────────────────XX^(xx1-15)───────────────────────────────────────────────────────────────────────────────────────────────────────────────────────────────────────────────────────────────────────────────────────────────────────────ZZ^(zz1-15)───────────\n"
          ]
        }
      ]
    },
    {
      "cell_type": "markdown",
      "source": [
        "# Using Qiskit"
      ],
      "metadata": {
        "id": "Hwoe1U4j8sfU"
      }
    },
    {
      "cell_type": "code",
      "source": [
        "import os\n",
        "!pip install -q pylatexenc\n",
        "os._exit(00) # we restart the kernel"
      ],
      "metadata": {
        "id": "9CK_9TOREcnD",
        "colab": {
          "base_uri": "https://localhost:8080/"
        },
        "outputId": "9febc194-4937-4630-b461-76b3af91a63c"
      },
      "execution_count": null,
      "outputs": [
        {
          "output_type": "stream",
          "name": "stdout",
          "text": [
            "\u001b[?25l     \u001b[90m━━━━━━━━━━━━━━━━━━━━━━━━━━━━━━━━━━━━━━━━\u001b[0m \u001b[32m0.0/162.6 kB\u001b[0m \u001b[31m?\u001b[0m eta \u001b[36m-:--:--\u001b[0m\r\u001b[2K     \u001b[91m━━━━━━━━━━━━━━━━━\u001b[0m\u001b[91m╸\u001b[0m\u001b[90m━━━━━━━━━━━━━━━━━━━━━━\u001b[0m \u001b[32m71.7/162.6 kB\u001b[0m \u001b[31m1.9 MB/s\u001b[0m eta \u001b[36m0:00:01\u001b[0m\r\u001b[2K     \u001b[90m━━━━━━━━━━━━━━━━━━━━━━━━━━━━━━━━━━━━━━━━\u001b[0m \u001b[32m162.6/162.6 kB\u001b[0m \u001b[31m3.1 MB/s\u001b[0m eta \u001b[36m0:00:00\u001b[0m\n",
            "\u001b[?25h  Preparing metadata (setup.py) ... \u001b[?25l\u001b[?25hdone\n",
            "  Building wheel for pylatexenc (setup.py) ... \u001b[?25l\u001b[?25hdone\n"
          ]
        }
      ]
    },
    {
      "cell_type": "code",
      "source": [
        "!pip uninstall -y pydantic\n",
        "!pip install -q pydantic==1.10.15 # to solve a problem with the last version\n",
        "!pip install -q qiskit-ibm-runtime==0.20.0"
      ],
      "metadata": {
        "colab": {
          "base_uri": "https://localhost:8080/"
        },
        "id": "9rNXxH129Ark",
        "outputId": "8d6c67d6-7b5b-4f2c-8dec-893ae92e1def"
      },
      "execution_count": null,
      "outputs": [
        {
          "output_type": "stream",
          "name": "stdout",
          "text": [
            "Found existing installation: pydantic 2.7.1\n",
            "Uninstalling pydantic-2.7.1:\n",
            "  Successfully uninstalled pydantic-2.7.1\n",
            "\u001b[2K     \u001b[90m━━━━━━━━━━━━━━━━━━━━━━━━━━━━━━━━━━━━━━━━\u001b[0m \u001b[32m3.1/3.1 MB\u001b[0m \u001b[31m21.0 MB/s\u001b[0m eta \u001b[36m0:00:00\u001b[0m\n",
            "\u001b[2K     \u001b[90m━━━━━━━━━━━━━━━━━━━━━━━━━━━━━━━━━━━━━━━━\u001b[0m \u001b[32m1.8/1.8 MB\u001b[0m \u001b[31m18.7 MB/s\u001b[0m eta \u001b[36m0:00:00\u001b[0m\n",
            "\u001b[2K     \u001b[90m━━━━━━━━━━━━━━━━━━━━━━━━━━━━━━━━━━━━━━━━\u001b[0m \u001b[32m5.6/5.6 MB\u001b[0m \u001b[31m59.5 MB/s\u001b[0m eta \u001b[36m0:00:00\u001b[0m\n",
            "\u001b[2K     \u001b[90m━━━━━━━━━━━━━━━━━━━━━━━━━━━━━━━━━━━━━━━━\u001b[0m \u001b[32m323.7/323.7 kB\u001b[0m \u001b[31m32.2 MB/s\u001b[0m eta \u001b[36m0:00:00\u001b[0m\n",
            "\u001b[?25h  Installing build dependencies ... \u001b[?25l\u001b[?25hdone\n",
            "  Getting requirements to build wheel ... \u001b[?25l\u001b[?25hdone\n",
            "  Preparing metadata (pyproject.toml) ... \u001b[?25l\u001b[?25hdone\n",
            "\u001b[2K     \u001b[90m━━━━━━━━━━━━━━━━━━━━━━━━━━━━━━━━━━━━━━━━\u001b[0m \u001b[32m62.1/62.1 kB\u001b[0m \u001b[31m7.9 MB/s\u001b[0m eta \u001b[36m0:00:00\u001b[0m\n",
            "\u001b[?25h  Installing build dependencies ... \u001b[?25l\u001b[?25hdone\n",
            "  Getting requirements to build wheel ... \u001b[?25l\u001b[?25hdone\n",
            "  Preparing metadata (pyproject.toml) ... \u001b[?25l\u001b[?25hdone\n",
            "\u001b[2K     \u001b[90m━━━━━━━━━━━━━━━━━━━━━━━━━━━━━━━━━━━━━━━━\u001b[0m \u001b[32m2.1/2.1 MB\u001b[0m \u001b[31m55.0 MB/s\u001b[0m eta \u001b[36m0:00:00\u001b[0m\n",
            "\u001b[2K     \u001b[90m━━━━━━━━━━━━━━━━━━━━━━━━━━━━━━━━━━━━━━━━\u001b[0m \u001b[32m116.3/116.3 kB\u001b[0m \u001b[31m11.2 MB/s\u001b[0m eta \u001b[36m0:00:00\u001b[0m\n",
            "\u001b[2K     \u001b[90m━━━━━━━━━━━━━━━━━━━━━━━━━━━━━━━━━━━━━━━━\u001b[0m \u001b[32m49.7/49.7 kB\u001b[0m \u001b[31m5.7 MB/s\u001b[0m eta \u001b[36m0:00:00\u001b[0m\n",
            "\u001b[2K     \u001b[90m━━━━━━━━━━━━━━━━━━━━━━━━━━━━━━━━━━━━━━━━\u001b[0m \u001b[32m39.4/39.4 MB\u001b[0m \u001b[31m18.1 MB/s\u001b[0m eta \u001b[36m0:00:00\u001b[0m\n",
            "\u001b[2K     \u001b[90m━━━━━━━━━━━━━━━━━━━━━━━━━━━━━━━━━━━━━━━━\u001b[0m \u001b[32m129.9/129.9 kB\u001b[0m \u001b[31m16.3 MB/s\u001b[0m eta \u001b[36m0:00:00\u001b[0m\n",
            "\u001b[2K     \u001b[90m━━━━━━━━━━━━━━━━━━━━━━━━━━━━━━━━━━━━━━━━\u001b[0m \u001b[32m121.1/121.1 kB\u001b[0m \u001b[31m10.1 MB/s\u001b[0m eta \u001b[36m0:00:00\u001b[0m\n",
            "\u001b[2K     \u001b[90m━━━━━━━━━━━━━━━━━━━━━━━━━━━━━━━━━━━━━━━━\u001b[0m \u001b[32m107.5/107.5 kB\u001b[0m \u001b[31m13.6 MB/s\u001b[0m eta \u001b[36m0:00:00\u001b[0m\n",
            "\u001b[?25h  Building wheel for ibm-platform-services (pyproject.toml) ... \u001b[?25l\u001b[?25hdone\n",
            "  Building wheel for ibm-cloud-sdk-core (pyproject.toml) ... \u001b[?25l\u001b[?25hdone\n"
          ]
        }
      ]
    },
    {
      "cell_type": "code",
      "source": [
        "!pip install -q qiskit-algorithms qiskit-aer qiskit_machine_learning"
      ],
      "metadata": {
        "colab": {
          "base_uri": "https://localhost:8080/"
        },
        "id": "3EcNZ1TJLY8A",
        "outputId": "6d95fc3d-e0f7-4c2d-d1c8-1942555a805f"
      },
      "execution_count": null,
      "outputs": [
        {
          "output_type": "stream",
          "name": "stdout",
          "text": [
            "\u001b[2K     \u001b[90m━━━━━━━━━━━━━━━━━━━━━━━━━━━━━━━━━━━━━━━━\u001b[0m \u001b[32m308.6/308.6 kB\u001b[0m \u001b[31m7.0 MB/s\u001b[0m eta \u001b[36m0:00:00\u001b[0m\n",
            "\u001b[2K     \u001b[90m━━━━━━━━━━━━━━━━━━━━━━━━━━━━━━━━━━━━━━━━\u001b[0m \u001b[32m12.3/12.3 MB\u001b[0m \u001b[31m87.6 MB/s\u001b[0m eta \u001b[36m0:00:00\u001b[0m\n",
            "\u001b[2K     \u001b[90m━━━━━━━━━━━━━━━━━━━━━━━━━━━━━━━━━━━━━━━━\u001b[0m \u001b[32m97.8/97.8 kB\u001b[0m \u001b[31m14.6 MB/s\u001b[0m eta \u001b[36m0:00:00\u001b[0m\n",
            "\u001b[2K     \u001b[90m━━━━━━━━━━━━━━━━━━━━━━━━━━━━━━━━━━━━━━━━\u001b[0m \u001b[32m133.4/133.4 kB\u001b[0m \u001b[31m18.2 MB/s\u001b[0m eta \u001b[36m0:00:00\u001b[0m\n",
            "\u001b[?25h  Preparing metadata (setup.py) ... \u001b[?25l\u001b[?25hdone\n",
            "  Building wheel for fastdtw (setup.py) ... \u001b[?25l\u001b[?25hdone\n"
          ]
        }
      ]
    },
    {
      "cell_type": "markdown",
      "source": [
        "Copy your token: https://quantum.ibm.com/account\n",
        "\n",
        "https://github.com/Qiskit/qiskit-ibm-runtime?tab=readme-ov-file#qiskit-runtime-service-on-ibm-cloud"
      ],
      "metadata": {
        "id": "6KO7BMnD9ewT"
      }
    },
    {
      "cell_type": "code",
      "source": [
        "from qiskit_ibm_runtime import QiskitRuntimeService\n",
        "from google.colab import userdata\n",
        "# Save an IBM Quantum account.\n",
        "QiskitRuntimeService.save_account(channel=\"ibm_quantum\", token=userdata.get('QIKSKIT_API_KEY'))\n"
      ],
      "metadata": {
        "id": "_mhHCWqY9G00"
      },
      "execution_count": null,
      "outputs": []
    },
    {
      "cell_type": "markdown",
      "source": [
        "Fahri circuit with 1 data qubit:"
      ],
      "metadata": {
        "id": "gdQ8g607zx-E"
      }
    },
    {
      "cell_type": "code",
      "source": [
        "from qiskit import QuantumCircuit, ClassicalRegister, QuantumRegister\n",
        "from qiskit.circuit.library import RXXGate, RZZGate\n",
        "from qiskit.circuit import ParameterVector\n",
        "\n",
        "theta = ParameterVector(\"th\", 2)\n",
        "\n",
        "c_r = ClassicalRegister(1, name='cbit')\n",
        "q_r = QuantumRegister(1, name='register')\n",
        "q_d = QuantumRegister(1, name='qd')\n",
        "\n",
        "circuit = QuantumCircuit(c_r, q_r, q_d)\n",
        "# Build a quantum circuit\n",
        "\n",
        "circuit.x(1)\n",
        "circuit.h(1)\n",
        "circuit.append(RXXGate(theta=theta[0]), [0, 1])\n",
        "circuit.append(RZZGate(theta=theta[1]), [0, 1])\n",
        "circuit.h(0)\n",
        "circuit.measure(q_r, c_r)\n",
        "#circuit.measure(range(3), range(3))\n",
        "print(circuit)"
      ],
      "metadata": {
        "colab": {
          "base_uri": "https://localhost:8080/"
        },
        "id": "NnQnFCZgC4Tc",
        "outputId": "b144c8a3-6df6-4296-fcb7-82f817d7bba3"
      },
      "execution_count": null,
      "outputs": [
        {
          "output_type": "stream",
          "name": "stdout",
          "text": [
            "                    ┌─────────────┐            ┌───┐┌─┐\n",
            "register: ──────────┤0            ├─■──────────┤ H ├┤M├\n",
            "          ┌───┐┌───┐│  Rxx(th[0]) │ │ZZ(th[1]) └───┘└╥┘\n",
            "      qd: ┤ X ├┤ H ├┤1            ├─■────────────────╫─\n",
            "          └───┘└───┘└─────────────┘                  ║ \n",
            "  cbit: 1/═══════════════════════════════════════════╩═\n",
            "                                                     0 \n"
          ]
        }
      ]
    },
    {
      "cell_type": "code",
      "source": [
        "# Matplotlib Drawing\n",
        "circuit.draw(output='mpl')"
      ],
      "metadata": {
        "colab": {
          "base_uri": "https://localhost:8080/",
          "height": 255
        },
        "id": "IjT_HilvEVw7",
        "outputId": "2d5cd957-f4e7-4f3f-ee67-85b52b3d538e"
      },
      "execution_count": null,
      "outputs": [
        {
          "output_type": "execute_result",
          "data": {
            "text/plain": [
              "<Figure size 781.263x284.278 with 1 Axes>"
            ],
            "image/png": "[encoded data removed]"
          },
          "metadata": {},
          "execution_count": 5
        }
      ]
    },
    {
      "cell_type": "markdown",
      "source": [
        "# Training"
      ],
      "metadata": {
        "id": "sQda7ZIsujbH"
      }
    },
    {
      "cell_type": "markdown",
      "source": [
        "Example taken from: https://github.com/Qiskit/textbook/blob/main/notebooks/ch-applications/machine-learning-qiskit-pytorch.ipynb\n",
        "\n",
        "🔖 __ — via [Quantum Neural Networks - Qiskit Machine Learning 0.7.2](https://qiskit-community.github.io/qiskit-machine-learning/tutorials/01_neural_networks.html#2.-How-to-Instantiate-QNNs)\n",
        "\n",
        "🔖 _hybrid quantum-classical_ — via [Torch Connector and Hybrid QNNs - Qiskit Machine Learning 0.7.2](https://qiskit-community.github.io/qiskit-machine-learning/tutorials/05_torch_connector.html#)"
      ],
      "metadata": {
        "id": "UnThn_ctJcRU"
      }
    },
    {
      "cell_type": "markdown",
      "source": [
        "Image features have been pre-computed here: https://github.com/sfoucher/sirfqc/tree/main/features\n"
      ],
      "metadata": {
        "id": "B2081U9v8X6h"
      }
    },
    {
      "cell_type": "code",
      "source": [
        "!wget https://github.com/sfoucher/sirfqc/raw/main/features/dae-eurosat-AnnualCropvsSeaLake-data.npz"
      ],
      "metadata": {
        "colab": {
          "base_uri": "https://localhost:8080/"
        },
        "id": "ljbgSP1Iue-n",
        "outputId": "d1b2860e-dfb6-4d89-be02-eb3a08dfda4d"
      },
      "execution_count": null,
      "outputs": [
        {
          "output_type": "stream",
          "name": "stdout",
          "text": [
            "--2024-05-08 17:49:24--  https://github.com/sfoucher/sirfqc/raw/main/features/dae-eurosat-AnnualCropvsSeaLake-data.npz\n",
            "Resolving github.com (github.com)... 20.205.243.166\n",
            "Connecting to github.com (github.com)|20.205.243.166|:443... connected.\n",
            "HTTP request sent, awaiting response... 302 Found\n",
            "Location: https://raw.githubusercontent.com/sfoucher/sirfqc/main/features/dae-eurosat-AnnualCropvsSeaLake-data.npz [following]\n",
            "--2024-05-08 17:49:24--  https://raw.githubusercontent.com/sfoucher/sirfqc/main/features/dae-eurosat-AnnualCropvsSeaLake-data.npz\n",
            "Resolving raw.githubusercontent.com (raw.githubusercontent.com)... 185.199.108.133, 185.199.109.133, 185.199.110.133, ...\n",
            "Connecting to raw.githubusercontent.com (raw.githubusercontent.com)|185.199.108.133|:443... connected.\n",
            "HTTP request sent, awaiting response... 200 OK\n",
            "Length: 433522 (423K) [application/octet-stream]\n",
            "Saving to: ‘dae-eurosat-AnnualCropvsSeaLake-data.npz.1’\n",
            "\n",
            "dae-eurosat-AnnualC 100%[===================>] 423.36K  --.-KB/s    in 0.007s  \n",
            "\n",
            "2024-05-08 17:49:24 (60.7 MB/s) - ‘dae-eurosat-AnnualCropvsSeaLake-data.npz.1’ saved [433522/433522]\n",
            "\n"
          ]
        }
      ]
    },
    {
      "cell_type": "code",
      "source": [
        "import numpy as np\n",
        "enc_x_train_u, enc_x_val_u, enc_x_test_u, y_train, y_val, y_test= np.load('dae-eurosat-AnnualCropvsSeaLake-data.npz').values()\n",
        "print(enc_x_train_u.shape)\n",
        "print(enc_x_val_u.shape)\n",
        "print(enc_x_test_u.shape)"
      ],
      "metadata": {
        "colab": {
          "base_uri": "https://localhost:8080/"
        },
        "id": "GlChQA5juxRf",
        "outputId": "4793bb8f-1cc6-41e9-bc40-be544779b13c"
      },
      "execution_count": null,
      "outputs": [
        {
          "output_type": "stream",
          "name": "stdout",
          "text": [
            "(4200, 4, 4)\n",
            "(900, 4, 4)\n",
            "(900, 4, 4)\n"
          ]
        }
      ]
    },
    {
      "cell_type": "code",
      "source": [
        "import torch\n",
        "from torch.utils.data import TensorDataset, DataLoader\n",
        "\n",
        "batch_size= 64\n",
        "n_qubits= 4\n",
        "\n",
        "labels= torch.ones(enc_x_train_u.shape[0],1) # pseudo labels\n",
        "train_dataset = TensorDataset(torch.tensor(enc_x_train_u.reshape(enc_x_train_u.shape[0],-1)[...,:n_qubits]), torch.tensor(y_train[..., np.newaxis], dtype=torch.float32))\n",
        "train_loader = DataLoader(train_dataset, batch_size=batch_size, shuffle=True)\n",
        "val_dataset = TensorDataset(torch.tensor(enc_x_val_u.reshape(enc_x_val_u.shape[0],-1)[...,:n_qubits]), torch.tensor(y_val[..., np.newaxis], dtype=torch.float32))\n",
        "val_loader = DataLoader(val_dataset, batch_size=batch_size, shuffle=False)"
      ],
      "metadata": {
        "id": "YB8YddS0GCNO"
      },
      "execution_count": null,
      "outputs": []
    },
    {
      "cell_type": "markdown",
      "source": [
        "## Rotation encoding:\n",
        "\n",
        "🔖 __ — via [RYGate | IBM Quantum Documentation](https://docs.quantum.ibm.com/api/qiskit/qiskit.circuit.library.RYGate)\n",
        "\n",
        "\\begin{align}\n",
        "RY(\\theta) = \\exp\\left(-i \\frac{\\theta}{2} Y\\right) =\n",
        "\\begin{pmatrix}\n",
        "\\cos\\left(\\frac{\\theta}{2}\\right) & -\\sin\\left(\\frac{\\theta}{2}\\right) \\\\\n",
        "\\sin\\left(\\frac{\\theta}{2}\\right) & \\cos\\left(\\frac{\\theta}{2}\\right)\n",
        "\\end{pmatrix}\n",
        "\\end{align}"
      ],
      "metadata": {
        "id": "PrWQZcOzN7UO"
      }
    },
    {
      "cell_type": "code",
      "source": [
        "RYGate?"
      ],
      "metadata": {
        "id": "GKoIvhenQUOS"
      },
      "execution_count": null,
      "outputs": []
    },
    {
      "cell_type": "markdown",
      "source": [
        "R_ZZ orresponds to a rotation of the qubit state around the Z-axis by the given angle theta θ on the Bloch Sphere"
      ],
      "metadata": {
        "id": "uNkFGe-kPaCZ"
      }
    },
    {
      "cell_type": "markdown",
      "source": [
        "\\begin{align}\n",
        "R_{ZZ}(\\theta) = \\exp\\left(-i \\frac{\\theta}{2} Z{\\otimes}Z\\right) =\n",
        "\\begin{pmatrix}\n",
        "    e^{-i \\frac{\\theta}{2}} & 0 & 0 & 0 \\\\\n",
        "    0 & e^{i \\frac{\\theta}{2}} & 0 & 0 \\\\\n",
        "    0 & 0 & e^{i \\frac{\\theta}{2}} & 0 \\\\\n",
        "    0 & 0 & 0 & e^{-i \\frac{\\theta}{2}}\n",
        "\\end{pmatrix}\n",
        "\\end{align}"
      ],
      "metadata": {
        "id": "vzuTldPl9hCd"
      }
    },
    {
      "cell_type": "code",
      "source": [
        "RZZGate?"
      ],
      "metadata": {
        "id": "rjYG2tpCPj9N"
      },
      "execution_count": null,
      "outputs": []
    },
    {
      "cell_type": "code",
      "source": [
        "from qiskit import QuantumCircuit, ClassicalRegister, QuantumRegister\n",
        "from qiskit.circuit.library import RXXGate, RZZGate, RYGate, RealAmplitudes\n",
        "from qiskit.circuit import ParameterVector\n",
        "\n",
        "inputs = ParameterVector(\"input\", n_qubits)\n",
        "weights = ParameterVector(\"weight\", 2*n_qubits)\n",
        "\n",
        "c_r = ClassicalRegister(1, name='cbit')\n",
        "q_r = QuantumRegister(1, name='register')\n",
        "q_d = QuantumRegister(n_qubits, name='data qubits')\n",
        "\n",
        "\n",
        "#circuit = QuantumCircuit(c_r, q_r, q_d)\n",
        "circuit = QuantumCircuit(q_r, q_d)\n",
        "#encoder = RealAmplitudes(n_qubits, reps=0)\n",
        "\n",
        "for i in range(n_qubits):\n",
        "    circuit.ry(theta=inputs[i],qubit=i+1)\n",
        "circuit.barrier()\n",
        "circuit.x(q_r)\n",
        "circuit.h(q_r)\n",
        "circuit.barrier()\n",
        "for i in range(n_qubits):\n",
        "    circuit.append(RXXGate(theta=weights[i]), [0, i+1])\n",
        "circuit.barrier()\n",
        "for i in range(n_qubits):\n",
        "    circuit.append(RZZGate(theta=weights[i+n_qubits]), [0, i+1])\n",
        "circuit.barrier()\n",
        "circuit.h(q_r)\n",
        "\n",
        "circuit.draw(output=\"mpl\")"
      ],
      "metadata": {
        "colab": {
          "base_uri": "https://localhost:8080/",
          "height": 299
        },
        "id": "rokHqFyJN6e2",
        "outputId": "8500c9bf-5601-42b4-f3e1-cd2be81ec943"
      },
      "execution_count": null,
      "outputs": [
        {
          "output_type": "execute_result",
          "data": {
            "text/plain": [
              "<Figure size 2272.37x451.5 with 1 Axes>"
            ],
            "image/png": "[encoded data removed]"
          },
          "metadata": {},
          "execution_count": 22
        }
      ]
    },
    {
      "cell_type": "code",
      "source": [
        "from qiskit_machine_learning.connectors import TorchConnector\n",
        "from qiskit.quantum_info import SparsePauliOp\n",
        "from qiskit_algorithms.utils import algorithm_globals\n",
        "from qiskit_machine_learning.neural_networks import SamplerQNN, EstimatorQNN\n",
        "from qiskit_machine_learning.connectors import TorchConnector\n",
        "\n",
        "observable1 = SparsePauliOp.from_list([(\"IIIIZ\", 0)]) # the measurement (big endian notation)\n",
        "\n",
        "# Set seed for random generators\n",
        "algorithm_globals.random_seed = 42\n",
        "\n",
        "# Setup QNN\n",
        "Fahir_circuit = EstimatorQNN(\n",
        "    circuit=circuit,\n",
        "    observables= observable1,\n",
        "    input_params=inputs,\n",
        "    weight_params=weights,\n",
        "    input_gradients=True,\n",
        ")\n",
        "\n",
        "# Set up PyTorch module\n",
        "# Note: If we don't explicitly declare the initial weights\n",
        "# they are chosen uniformly at random from [-1, 1].\n",
        "initial_weights = 0.1 * (2 * algorithm_globals.random.random(Fahir_circuit.num_weights) - 1)\n",
        "model_fahir = TorchConnector(Fahir_circuit, initial_weights=initial_weights)\n",
        "print(\"Initial weights: \", initial_weights)\n",
        "print(Fahir_circuit.observables)"
      ],
      "metadata": {
        "colab": {
          "base_uri": "https://localhost:8080/"
        },
        "id": "SdlwRrSeRWr8",
        "outputId": "431de1f1-c166-4309-b20b-5068debcd1fb"
      },
      "execution_count": null,
      "outputs": [
        {
          "output_type": "stream",
          "name": "stdout",
          "text": [
            "Initial weights:  [ 0.05479121 -0.01222431  0.07171958  0.03947361 -0.08116453  0.09512447\n",
            "  0.05222794  0.05721286]\n",
            "(SparsePauliOp(['IIIIZ'],\n",
            "              coeffs=[0.+0.j]),)\n"
          ]
        }
      ]
    },
    {
      "cell_type": "markdown",
      "source": [
        "You can also wrap the circuit inside a classical neural net:\n",
        "\n",
        "```python\n",
        "from torch.nn import Linear, Module\n",
        "from torch import cat, no_grad, manual_seed\n",
        "\n",
        "class Net(Module):\n",
        "    def __init__(self, qnn):\n",
        "        super().__init__()\n",
        "        self.qnn = qnn  # Apply torch connector, weights chosen\n",
        "        # uniformly at random from interval [-1,1].\n",
        "        self.fc3 = Linear(1, 1)  # 1-dimensional output from QNN\n",
        "\n",
        "    def forward(self, x):\n",
        "        x = self.qnn(x)  # apply QNN\n",
        "        x = self.fc3(x)\n",
        "        return cat((x, 1 - x), -1)\n",
        "\n",
        "\n",
        "model_fahir_net = Net(qnn = model_fahir)\n",
        "```\n",
        "\n"
      ],
      "metadata": {
        "id": "Hcf9nsnCUB66"
      }
    },
    {
      "cell_type": "markdown",
      "source": [
        "Let's test the forward method"
      ],
      "metadata": {
        "id": "Hhask8-iFqo4"
      }
    },
    {
      "cell_type": "code",
      "source": [
        "import torch\n",
        "model_fahir(torch.rand(1, 4))"
      ],
      "metadata": {
        "colab": {
          "base_uri": "https://localhost:8080/"
        },
        "id": "4Sh-kQvfCRrZ",
        "outputId": "cded0d09-ac71-4d40-cc3f-3d7b98f8af44"
      },
      "execution_count": null,
      "outputs": [
        {
          "output_type": "execute_result",
          "data": {
            "text/plain": [
              "tensor([[0.]], grad_fn=<_TorchNNFunctionBackward>)"
            ]
          },
          "metadata": {},
          "execution_count": 17
        }
      ]
    },
    {
      "cell_type": "markdown",
      "source": [
        "Optimizer:"
      ],
      "metadata": {
        "id": "kDL1bSVS759t"
      }
    },
    {
      "cell_type": "code",
      "source": [
        "from torch import Tensor\n",
        "from torch.nn import Linear, CrossEntropyLoss, MSELoss, BCELoss\n",
        "from torch.optim import Adam\n",
        "device= 'cuda'\n",
        "device= 'cpu'\n",
        "model_fahir.to(device)\n",
        "# Define optimizer and loss\n",
        "optimizer = Adam(model_fahir.parameters())\n",
        "f_loss = BCELoss(reduction=\"sum\")\n"
      ],
      "metadata": {
        "id": "0zTRDUVFR8Lw"
      },
      "execution_count": null,
      "outputs": []
    },
    {
      "cell_type": "markdown",
      "source": [
        "Training loop:"
      ],
      "metadata": {
        "id": "e2WXSbzEQ7R5"
      }
    },
    {
      "cell_type": "code",
      "source": [
        "# prompt: how to add a tqdm bar on the train_loader\n",
        "\n",
        "from tqdm import tqdm\n",
        "for epoch in range(10):\n",
        "    model_fahir.train()\n",
        "    for i, (x, y) in enumerate(tqdm(train_loader)):\n",
        "        x, y = x.to(device), y.to(device)\n",
        "        optimizer.zero_grad()\n",
        "        y_pred = model_fahir(x)\n",
        "        loss = f_loss(y_pred, y)\n",
        "        loss.backward()\n",
        "        optimizer.step()\n",
        "\n",
        "    model_fahir.eval()\n",
        "    with torch.no_grad():\n",
        "        for x, y in val_loader:\n",
        "            x, y = x.to(device), y.to(device)\n",
        "            y_pred = model_fahir(x)\n",
        "            loss = f_loss(y_pred, y)\n",
        "            print(f\"Epoch: {epoch+1:02d}, Loss: {loss:.5f}\")\n",
        "\n"
      ],
      "metadata": {
        "id": "JOWMNDoMXd5W"
      },
      "execution_count": null,
      "outputs": []
    },
    {
      "cell_type": "code",
      "source": [
        "# Start training\n",
        "epochs = 10  # Set number of epochs\n",
        "loss_list = []  # Store loss history\n",
        "from tqdm import tqdm\n",
        "\n",
        "model_fahir.train()  # Set model to training mode\n",
        "\n",
        "for epoch in range(epochs):\n",
        "    total_loss = []\n",
        "    #for batch_idx, (data, target) in enumerate(train_loader):\n",
        "    for batch_idx, (data, target) in enumerate(tqdm(train_loader)):\n",
        "        data, target = data.to(device), target.to(device)\n",
        "        optimizer.zero_grad()  # Initialize gradient\n",
        "        output = model_fahir(data)  # Forward pass\n",
        "        loss = f_loss(output, target)  # Calculate loss\n",
        "        loss.backward()  # Backward pass\n",
        "        optimizer.step()  # Optimize weights\n",
        "        total_loss.append(loss.item())  # Store loss\n",
        "    loss_list.append(sum(total_loss) / len(total_loss))\n",
        "    print(\"Training [{:.0f}%]\\tLoss: {:.4f}\".format(100.0 * (epoch + 1) / epochs, loss_list[-1]))"
      ],
      "metadata": {
        "colab": {
          "base_uri": "https://localhost:8080/"
        },
        "id": "Ud_D7rZKU_rx",
        "outputId": "807c3584-515c-4e8a-eebd-eb72309af507"
      },
      "execution_count": null,
      "outputs": [
        {
          "output_type": "stream",
          "name": "stderr",
          "text": [
            " 20%|█▉        | 13/66 [01:16<05:11,  5.88s/it]"
          ]
        }
      ]
    }
  ]
}